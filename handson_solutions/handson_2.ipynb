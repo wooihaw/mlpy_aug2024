{
 "cells": [
  {
   "cell_type": "markdown",
   "id": "5efc58ff",
   "metadata": {
    "colab_type": "text",
    "id": "view-in-github"
   },
   "source": [
    "<a href=\"https://colab.research.google.com/github/wooihaw/imbalanced_classification/blob/main/imbalanced_dataset_classification.ipynb\" target=\"_parent\"><img src=\"https://colab.research.google.com/assets/colab-badge.svg\" alt=\"Open In Colab\"/></a>"
   ]
  },
  {
   "cell_type": "markdown",
   "id": "9387cce5-d1d1-4c01-9ead-7edbe17bffe7",
   "metadata": {
    "id": "9387cce5-d1d1-4c01-9ead-7edbe17bffe7"
   },
   "source": [
    "# Hands-on 2\n",
    "## Classification of Imbalanced Dataset"
   ]
  },
  {
   "cell_type": "markdown",
   "id": "9488a4a0-fd6d-495a-8a6b-1e083556dcf7",
   "metadata": {
    "id": "9488a4a0-fd6d-495a-8a6b-1e083556dcf7"
   },
   "source": [
    "The Statlog (Shuttle) dataset, utilized prominently in machine learning for classification tasks. This dataset, composed of data derived from the space shuttle, is used for predicting the radiator position on the shuttle: whether it is in a state of radiative cooling or not. One of the primary challenges is the imbalanced distribution of classes within the dataset. The majority of the data points belong to one class (approximately 80% of the data belongs to class 1), while other classes are underrepresented. This imbalance can lead to models that are biased towards predicting the majority class, thereby reducing the overall accuracy of classification for the minority classes.s."
   ]
  },
  {
   "cell_type": "code",
   "execution_count": 14,
   "id": "4b015826-8a88-4d00-8346-df30e81bfba7",
   "metadata": {},
   "outputs": [],
   "source": [
    "# Initialization\n",
    "%matplotlib inline\n",
    "from warnings import filterwarnings\n",
    "filterwarnings(\"ignore\")"
   ]
  },
  {
   "cell_type": "code",
   "execution_count": 15,
   "id": "a7588433-7ad8-4107-a7f8-424d5868253c",
   "metadata": {
    "id": "a7588433-7ad8-4107-a7f8-424d5868253c",
    "tags": []
   },
   "outputs": [],
   "source": [
    "from imblearn.over_sampling import SMOTE, RandomOverSampler\n",
    "from sklearn.model_selection import train_test_split\n",
    "from sklearn.preprocessing import StandardScaler\n",
    "from sklearn.ensemble import RandomForestClassifier\n",
    "from sklearn.svm import SVC\n",
    "from sklearn.metrics import classification_report\n",
    "from pandas import read_csv"
   ]
  },
  {
   "cell_type": "code",
   "execution_count": 16,
   "id": "11394d95-ded3-4c81-b50c-9f54d759fe04",
   "metadata": {
    "id": "11394d95-ded3-4c81-b50c-9f54d759fe04",
    "tags": []
   },
   "outputs": [],
   "source": [
    "# Load the dataset\n",
    "df_train = read_csv(\"data/shuttle_train.csv\")\n",
    "df_test = read_csv(\"data/shuttle_test.csv\")"
   ]
  },
  {
   "cell_type": "markdown",
   "id": "8d6c7411-8097-4364-a307-99f18326e02f",
   "metadata": {},
   "source": [
    "To do: \n",
    "- Print first 5 data samples in the training set"
   ]
  },
  {
   "cell_type": "code",
   "execution_count": 17,
   "id": "e93cf902-875b-44e8-9d50-208ac80b6819",
   "metadata": {
    "colab": {
     "base_uri": "https://localhost:8080/",
     "height": 206
    },
    "id": "e93cf902-875b-44e8-9d50-208ac80b6819",
    "outputId": "0c29b49a-ffa9-4c35-e518-2330dccb46a0"
   },
   "outputs": [
    {
     "data": {
      "text/html": [
       "<div>\n",
       "<style scoped>\n",
       "    .dataframe tbody tr th:only-of-type {\n",
       "        vertical-align: middle;\n",
       "    }\n",
       "\n",
       "    .dataframe tbody tr th {\n",
       "        vertical-align: top;\n",
       "    }\n",
       "\n",
       "    .dataframe thead th {\n",
       "        text-align: right;\n",
       "    }\n",
       "</style>\n",
       "<table border=\"1\" class=\"dataframe\">\n",
       "  <thead>\n",
       "    <tr style=\"text-align: right;\">\n",
       "      <th></th>\n",
       "      <th>Time</th>\n",
       "      <th>Rad Flow</th>\n",
       "      <th>Fpv Close</th>\n",
       "      <th>Fpv Open</th>\n",
       "      <th>High</th>\n",
       "      <th>Bypass</th>\n",
       "      <th>Bpv Close</th>\n",
       "      <th>Bpv Open</th>\n",
       "      <th>Class</th>\n",
       "    </tr>\n",
       "  </thead>\n",
       "  <tbody>\n",
       "    <tr>\n",
       "      <th>0</th>\n",
       "      <td>21</td>\n",
       "      <td>77</td>\n",
       "      <td>0</td>\n",
       "      <td>28</td>\n",
       "      <td>0</td>\n",
       "      <td>27</td>\n",
       "      <td>48</td>\n",
       "      <td>22</td>\n",
       "      <td>2</td>\n",
       "    </tr>\n",
       "    <tr>\n",
       "      <th>1</th>\n",
       "      <td>0</td>\n",
       "      <td>92</td>\n",
       "      <td>0</td>\n",
       "      <td>0</td>\n",
       "      <td>26</td>\n",
       "      <td>36</td>\n",
       "      <td>92</td>\n",
       "      <td>56</td>\n",
       "      <td>4</td>\n",
       "    </tr>\n",
       "    <tr>\n",
       "      <th>2</th>\n",
       "      <td>0</td>\n",
       "      <td>82</td>\n",
       "      <td>0</td>\n",
       "      <td>52</td>\n",
       "      <td>-5</td>\n",
       "      <td>29</td>\n",
       "      <td>30</td>\n",
       "      <td>2</td>\n",
       "      <td>1</td>\n",
       "    </tr>\n",
       "    <tr>\n",
       "      <th>3</th>\n",
       "      <td>0</td>\n",
       "      <td>76</td>\n",
       "      <td>0</td>\n",
       "      <td>28</td>\n",
       "      <td>18</td>\n",
       "      <td>40</td>\n",
       "      <td>48</td>\n",
       "      <td>8</td>\n",
       "      <td>1</td>\n",
       "    </tr>\n",
       "    <tr>\n",
       "      <th>4</th>\n",
       "      <td>0</td>\n",
       "      <td>79</td>\n",
       "      <td>0</td>\n",
       "      <td>34</td>\n",
       "      <td>-26</td>\n",
       "      <td>43</td>\n",
       "      <td>46</td>\n",
       "      <td>2</td>\n",
       "      <td>1</td>\n",
       "    </tr>\n",
       "  </tbody>\n",
       "</table>\n",
       "</div>"
      ],
      "text/plain": [
       "   Time  Rad Flow  Fpv Close  Fpv Open  High  Bypass  Bpv Close  Bpv Open  \\\n",
       "0    21        77          0        28     0      27         48        22   \n",
       "1     0        92          0         0    26      36         92        56   \n",
       "2     0        82          0        52    -5      29         30         2   \n",
       "3     0        76          0        28    18      40         48         8   \n",
       "4     0        79          0        34   -26      43         46         2   \n",
       "\n",
       "   Class  \n",
       "0      2  \n",
       "1      4  \n",
       "2      1  \n",
       "3      1  \n",
       "4      1  "
      ]
     },
     "execution_count": 17,
     "metadata": {},
     "output_type": "execute_result"
    }
   ],
   "source": [
    "df_train.head()\n"
   ]
  },
  {
   "cell_type": "markdown",
   "id": "b8963034-520f-4ddc-8adb-229a33e5eee9",
   "metadata": {},
   "source": [
    "To do: \n",
    "- Print the class breakdown of the training set"
   ]
  },
  {
   "cell_type": "code",
   "execution_count": 18,
   "id": "c689657e-47bd-42fd-8dd3-2ff26731f886",
   "metadata": {
    "colab": {
     "base_uri": "https://localhost:8080/"
    },
    "id": "c689657e-47bd-42fd-8dd3-2ff26731f886",
    "outputId": "94035d02-cd34-4754-a079-c9fc7fe0ac57"
   },
   "outputs": [
    {
     "data": {
      "text/plain": [
       "Class\n",
       "1    34108\n",
       "2       37\n",
       "3      132\n",
       "4     6748\n",
       "5     2458\n",
       "6        6\n",
       "7       11\n",
       "dtype: int64"
      ]
     },
     "execution_count": 18,
     "metadata": {},
     "output_type": "execute_result"
    }
   ],
   "source": [
    "df_train.groupby(\"Class\").size()\n"
   ]
  },
  {
   "cell_type": "markdown",
   "id": "4de353f0-6ffd-4a11-8353-5a8e294a21be",
   "metadata": {},
   "source": [
    "To do: \n",
    "- Split the dataset to X_train, X_test, y_train, y_test"
   ]
  },
  {
   "cell_type": "code",
   "execution_count": 19,
   "id": "d624133e-3bc8-4e24-9e64-444a605055fd",
   "metadata": {
    "id": "d624133e-3bc8-4e24-9e64-444a605055fd",
    "tags": []
   },
   "outputs": [],
   "source": [
    "X_train = df_train.drop(columns=[\"Class\"])\n",
    "y_train = df_train[\"Class\"]\n",
    "X_test = df_test.drop(columns=[\"Class\"])\n",
    "y_test = df_test[\"Class\"]"
   ]
  },
  {
   "cell_type": "markdown",
   "id": "8b890272-2840-49ad-853e-955ac69acf52",
   "metadata": {},
   "source": [
    "To do:\n",
    "- Train a Random Forest classifier\n",
    "- Make prediction based on the test features (X_test)\n",
    "- Print the classification report"
   ]
  },
  {
   "cell_type": "code",
   "execution_count": 20,
   "id": "f7a0410a-37d0-4687-8270-2d25e3c36b5d",
   "metadata": {
    "colab": {
     "base_uri": "https://localhost:8080/"
    },
    "id": "f7a0410a-37d0-4687-8270-2d25e3c36b5d",
    "outputId": "6f90129f-e411-4ae4-d716-8344928714c2",
    "tags": []
   },
   "outputs": [
    {
     "name": "stdout",
     "output_type": "stream",
     "text": [
      "              precision    recall  f1-score   support\n",
      "\n",
      "           1       1.00      1.00      1.00     11478\n",
      "           2       1.00      0.92      0.96        13\n",
      "           3       0.95      1.00      0.97        39\n",
      "           4       1.00      1.00      1.00      2155\n",
      "           5       1.00      1.00      1.00       809\n",
      "           6       1.00      0.75      0.86         4\n",
      "           7       1.00      0.50      0.67         2\n",
      "\n",
      "    accuracy                           1.00     14500\n",
      "   macro avg       0.99      0.88      0.92     14500\n",
      "weighted avg       1.00      1.00      1.00     14500\n",
      "\n"
     ]
    }
   ],
   "source": [
    "rfc1 = RandomForestClassifier().fit(X_train, y_train)\n",
    "y_pred = rfc1.predict(X_test)\n",
    "report = classification_report(y_test, y_pred)\n",
    "print(report)\n"
   ]
  },
  {
   "cell_type": "markdown",
   "id": "81e42ad8-bed9-4f36-8e1d-8c9b341dbfd2",
   "metadata": {},
   "source": [
    "To do: \n",
    "- Train a Random Forest classifier on the data resampled using SMOTE\n",
    "- Make predictions based on the test features (X_test)\n",
    "- Print the classification report "
   ]
  },
  {
   "cell_type": "code",
   "execution_count": 22,
   "id": "56056b88-d5a0-4393-971e-346194454434",
   "metadata": {
    "colab": {
     "base_uri": "https://localhost:8080/"
    },
    "id": "56056b88-d5a0-4393-971e-346194454434",
    "outputId": "c1247aa4-0acd-4af4-a13a-007f590db2bf",
    "tags": []
   },
   "outputs": [
    {
     "name": "stdout",
     "output_type": "stream",
     "text": [
      "              precision    recall  f1-score   support\n",
      "\n",
      "           1       1.00      1.00      1.00     11478\n",
      "           2       1.00      0.92      0.96        13\n",
      "           3       0.93      1.00      0.96        39\n",
      "           4       1.00      1.00      1.00      2155\n",
      "           5       1.00      1.00      1.00       809\n",
      "           6       1.00      1.00      1.00         4\n",
      "           7       1.00      1.00      1.00         2\n",
      "\n",
      "    accuracy                           1.00     14500\n",
      "   macro avg       0.99      0.99      0.99     14500\n",
      "weighted avg       1.00      1.00      1.00     14500\n",
      "\n"
     ]
    }
   ],
   "source": [
    "# Applying SMOTE\n",
    "smote = SMOTE()\n",
    "X_resampled, y_resampled = smote.fit_resample(X_train, y_train)\n",
    "\n",
    "rfc2 = RandomForestClassifier().fit(X_resampled, y_resampled)\n",
    "y_pred = rfc2.predict(X_test)\n",
    "report = classification_report(y_test, y_pred)\n",
    "print(report)"
   ]
  },
  {
   "cell_type": "markdown",
   "id": "0967e7d1-3c68-4bd7-80d5-ec5dac897143",
   "metadata": {},
   "source": [
    "To do: \n",
    "- Train a Random Forest classifier on the data resampled using Random Over Sampler\n",
    "- Make predictions based on the test features (X_test)\n",
    "- Print the classification report "
   ]
  },
  {
   "cell_type": "code",
   "execution_count": 23,
   "id": "0218f363-1a31-4664-823e-2cdde0776774",
   "metadata": {
    "colab": {
     "base_uri": "https://localhost:8080/"
    },
    "id": "0218f363-1a31-4664-823e-2cdde0776774",
    "outputId": "15da1520-d0f4-4190-df19-c20a87e8dce7",
    "tags": []
   },
   "outputs": [
    {
     "name": "stdout",
     "output_type": "stream",
     "text": [
      "              precision    recall  f1-score   support\n",
      "\n",
      "           1       1.00      1.00      1.00     11478\n",
      "           2       1.00      0.92      0.96        13\n",
      "           3       0.95      1.00      0.97        39\n",
      "           4       1.00      1.00      1.00      2155\n",
      "           5       1.00      1.00      1.00       809\n",
      "           6       1.00      1.00      1.00         4\n",
      "           7       1.00      1.00      1.00         2\n",
      "\n",
      "    accuracy                           1.00     14500\n",
      "   macro avg       0.99      0.99      0.99     14500\n",
      "weighted avg       1.00      1.00      1.00     14500\n",
      "\n"
     ]
    }
   ],
   "source": [
    "# Applying Random Over Sampler\n",
    "rus = RandomOverSampler()\n",
    "X_resampled, y_resampled = rus.fit_resample(X_train, y_train)\n",
    "\n",
    "rfc3 = RandomForestClassifier().fit(X_resampled, y_resampled)\n",
    "y_pred = rfc3.predict(X_test)\n",
    "report = classification_report(y_test, y_pred)\n",
    "print(report)"
   ]
  },
  {
   "cell_type": "markdown",
   "id": "3111db11-680e-44e1-b8ca-4f7424f27c00",
   "metadata": {},
   "source": [
    "To do: \n",
    "- Train a Random Forest classifier by setting the class_weight to \"balanced\"\n",
    "- Make predictions based on the test features (X_test)\n",
    "- Print the classification report "
   ]
  },
  {
   "cell_type": "code",
   "execution_count": 24,
   "id": "98305dff-140c-4374-8a74-68a686a49bf0",
   "metadata": {
    "colab": {
     "base_uri": "https://localhost:8080/"
    },
    "id": "98305dff-140c-4374-8a74-68a686a49bf0",
    "outputId": "dd6a8a67-8d21-47bf-edf5-ea036967305c",
    "tags": []
   },
   "outputs": [
    {
     "name": "stdout",
     "output_type": "stream",
     "text": [
      "              precision    recall  f1-score   support\n",
      "\n",
      "           1       1.00      1.00      1.00     11478\n",
      "           2       1.00      0.92      0.96        13\n",
      "           3       0.93      0.97      0.95        39\n",
      "           4       1.00      1.00      1.00      2155\n",
      "           5       1.00      1.00      1.00       809\n",
      "           6       1.00      0.75      0.86         4\n",
      "           7       1.00      1.00      1.00         2\n",
      "\n",
      "    accuracy                           1.00     14500\n",
      "   macro avg       0.99      0.95      0.97     14500\n",
      "weighted avg       1.00      1.00      1.00     14500\n",
      "\n"
     ]
    }
   ],
   "source": [
    "rfc4 = RandomForestClassifier(class_weight=\"balanced\").fit(X_train, y_train)\n",
    "y_pred = rfc4.predict(X_test)\n",
    "report = classification_report(y_test, y_pred)\n",
    "print(report)\n"
   ]
  },
  {
   "cell_type": "code",
   "execution_count": null,
   "id": "040e1924-eff6-4c71-9854-b101b723a7f8",
   "metadata": {},
   "outputs": [],
   "source": []
  }
 ],
 "metadata": {
  "colab": {
   "include_colab_link": true,
   "provenance": []
  },
  "kernelspec": {
   "display_name": "Python 3 (ipykernel)",
   "language": "python",
   "name": "python3"
  },
  "language_info": {
   "codemirror_mode": {
    "name": "ipython",
    "version": 3
   },
   "file_extension": ".py",
   "mimetype": "text/x-python",
   "name": "python",
   "nbconvert_exporter": "python",
   "pygments_lexer": "ipython3",
   "version": "3.12.4"
  }
 },
 "nbformat": 4,
 "nbformat_minor": 5
}
