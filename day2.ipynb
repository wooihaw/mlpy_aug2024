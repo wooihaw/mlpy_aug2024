{
 "cells": [
  {
   "cell_type": "markdown",
   "id": "71fec08d-43cc-438b-be46-922a9bcad143",
   "metadata": {},
   "source": [
    "# Examples for Day 2"
   ]
  },
  {
   "cell_type": "code",
   "execution_count": 1,
   "id": "6bc47310-36f8-4537-b37b-e836739b3454",
   "metadata": {},
   "outputs": [],
   "source": [
    "# initialization\n",
    "%matplotlib inline\n",
    "from warnings import filterwarnings\n",
    "filterwarnings(\"ignore\")"
   ]
  },
  {
   "cell_type": "code",
   "execution_count": 3,
   "id": "5ba99510-fde8-46a7-a036-8cc79c6c3b59",
   "metadata": {},
   "outputs": [
    {
     "name": "stdout",
     "output_type": "stream",
     "text": [
      "['preg', 'plas', 'mass', 'age']\n"
     ]
    }
   ],
   "source": [
    "# %load ml15.py\n",
    "# Feature Selection with Univariate Selection\n",
    "from pandas import read_csv\n",
    "from sklearn.feature_selection import SelectKBest\n",
    "# load data\n",
    "header = ['preg', 'plas', 'pres', 'skin', 'test', 'mass', 'pedi', 'age', 'class']\n",
    "df = read_csv('data/pima-indians-diabetes.data.csv', names=header)\n",
    "X = df.drop(columns=['class'])\n",
    "y = df['class']\n",
    "selector = SelectKBest(k=4)\n",
    "features = selector.fit_transform(X, y)\n",
    "selected = selector.get_support()\n",
    "# Show selected features\n",
    "print([header[i] for i, j in enumerate(selected) if j])\n"
   ]
  },
  {
   "cell_type": "code",
   "execution_count": 4,
   "id": "050be1e6-9116-4895-b55c-a3cc388d1d6b",
   "metadata": {},
   "outputs": [
    {
     "data": {
      "text/plain": [
       "array([ True,  True, False, False, False,  True, False,  True])"
      ]
     },
     "execution_count": 4,
     "metadata": {},
     "output_type": "execute_result"
    }
   ],
   "source": [
    "selected"
   ]
  },
  {
   "cell_type": "code",
   "execution_count": 8,
   "id": "12a3124b-5ec5-4260-b896-a4310d07999f",
   "metadata": {},
   "outputs": [
    {
     "name": "stdout",
     "output_type": "stream",
     "text": [
      "['plas', 'mass', 'pedi', 'age']\n"
     ]
    }
   ],
   "source": [
    "# %load ml16.py\n",
    "# Model-based Feature Selection with Random Forest\n",
    "from pandas import read_csv\n",
    "from sklearn.ensemble import RandomForestClassifier\n",
    "from sklearn.feature_selection import SelectFromModel\n",
    "names = ['preg', 'plas', 'pres', 'skin', 'test', 'mass', 'pedi', 'age', 'class']\n",
    "df = read_csv('data/pima-indians-diabetes.data.csv', names=names)\n",
    "array = df.values\n",
    "X = array[:, :-1]\n",
    "y = array[:, -1]\n",
    "selector = SelectFromModel(RandomForestClassifier(), threshold='median')\n",
    "features = selector.fit_transform(X, y)\n",
    "selected = selector.get_support()\n",
    "# Show selected features\n",
    "print([names[i] for i in range(len(names)-1) if selected[i]])\n"
   ]
  },
  {
   "cell_type": "code",
   "execution_count": 11,
   "id": "971590b0-8bc0-4ac8-a7f2-fde6a169963b",
   "metadata": {},
   "outputs": [
    {
     "name": "stdout",
     "output_type": "stream",
     "text": [
      "['plas', 'mass', 'pedi', 'age']\n"
     ]
    }
   ],
   "source": [
    "# %load ml17.py\n",
    "# Feature Selection with RFE\n",
    "from pandas import read_csv\n",
    "from sklearn.feature_selection import RFE\n",
    "from sklearn.tree import DecisionTreeClassifier\n",
    "header = ['preg', 'plas', 'pres', 'skin', 'test', 'mass', 'pedi', 'age', 'class']\n",
    "df = read_csv('data/pima-indians-diabetes.data.csv', names=header)\n",
    "X = df.drop(columns=['class'])\n",
    "y = df['class']\n",
    "model = DecisionTreeClassifier()\n",
    "rfe = RFE(model, n_features_to_select=4)\n",
    "features = rfe.fit_transform(X, y)\n",
    "selected = rfe.get_support()\n",
    "# Show selected features\n",
    "print([header[i] for i, j in enumerate(selected) if j])\n"
   ]
  },
  {
   "cell_type": "code",
   "execution_count": 13,
   "id": "5127fa68-572f-4384-8482-c47a5b26ff0d",
   "metadata": {},
   "outputs": [
    {
     "name": "stdout",
     "output_type": "stream",
     "text": [
      "Accuracy: 70.08%\n"
     ]
    }
   ],
   "source": [
    "# %load ml18.py\n",
    "# Evaluate using a train and a test set\n",
    "from pandas import read_csv\n",
    "from sklearn.model_selection import train_test_split as split\n",
    "from sklearn.neighbors import KNeighborsClassifier\n",
    "header = ['preg', 'plas', 'pres', 'skin', 'test', 'mass', 'pedi', 'age', 'class']\n",
    "df = read_csv('data/pima-indians-diabetes.data.csv', names=header)\n",
    "X = df.drop(columns=['class'])\n",
    "y = df['class']\n",
    "# Split into training and testing sets\n",
    "X_train, X_test, y_train, y_test = split(X, y, test_size=0.33, random_state=42)\n",
    "model = KNeighborsClassifier()\n",
    "model.fit(X_train, y_train)\n",
    "result = model.score(X_test, y_test)\n",
    "print(f\"Accuracy: {result:.2%}\")\n"
   ]
  },
  {
   "cell_type": "code",
   "execution_count": 19,
   "id": "f17c945b-7964-41f4-87a2-73c38ae660a2",
   "metadata": {},
   "outputs": [
    {
     "name": "stdout",
     "output_type": "stream",
     "text": [
      "[0 1],[0.65104167 0.34895833]\n",
      "[0 1],[0.6459144 0.3540856]\n",
      "[0 1],[0.66141732 0.33858268]\n"
     ]
    }
   ],
   "source": [
    "import numpy as np\n",
    "u, c = np.unique(y, return_counts=True)\n",
    "print(u, c/len(y), sep=\",\")\n",
    "\n",
    "u_train, c_train = np.unique(y_train, return_counts=True)\n",
    "print(u_train, c_train/len(y_train), sep=\",\")\n",
    "\n",
    "u_test, c_test = np.unique(y_test, return_counts=True)\n",
    "print(u_test, c_test/len(y_test), sep=\",\")"
   ]
  },
  {
   "cell_type": "code",
   "execution_count": 21,
   "id": "71b66127-97b8-42a4-8905-3597c7a8c72f",
   "metadata": {},
   "outputs": [
    {
     "name": "stdout",
     "output_type": "stream",
     "text": [
      "Accuracy: 72.44%\n"
     ]
    }
   ],
   "source": [
    "# %load ml19.py\n",
    "# Evaluate using a train and a test set\n",
    "from pandas import read_csv\n",
    "from sklearn.model_selection import train_test_split as split\n",
    "from sklearn.neighbors import KNeighborsClassifier\n",
    "header = ['preg', 'plas', 'pres', 'skin', 'test', 'mass', 'pedi', 'age', 'class']\n",
    "df = read_csv('data/pima-indians-diabetes.data.csv', names=header)\n",
    "X = df.drop(columns=['class'])\n",
    "y = df['class']\n",
    "# Split into training and testing sets\n",
    "X_train, X_test, y_train, y_test = split(X, y, stratify=y, test_size=0.33, random_state=42)\n",
    "model = KNeighborsClassifier()\n",
    "model.fit(X_train, y_train)\n",
    "result = model.score(X_test, y_test)\n",
    "print(f\"Accuracy: {result:.2%}\")\n"
   ]
  },
  {
   "cell_type": "code",
   "execution_count": 22,
   "id": "2ecbae96-1bcb-4b4b-9333-6d32d3e904a0",
   "metadata": {},
   "outputs": [
    {
     "name": "stdout",
     "output_type": "stream",
     "text": [
      "[0 1],[0.65104167 0.34895833]\n",
      "[0 1],[0.65175097 0.34824903]\n",
      "[0 1],[0.6496063 0.3503937]\n"
     ]
    }
   ],
   "source": [
    "u, c = np.unique(y, return_counts=True)\n",
    "print(u, c/len(y), sep=\",\")\n",
    "\n",
    "u_train, c_train = np.unique(y_train, return_counts=True)\n",
    "print(u_train, c_train/len(y_train), sep=\",\")\n",
    "\n",
    "u_test, c_test = np.unique(y_test, return_counts=True)\n",
    "print(u_test, c_test/len(y_test), sep=\",\")"
   ]
  },
  {
   "cell_type": "code",
   "execution_count": 24,
   "id": "cf1944dd-b9fc-4ac6-a266-d0ff471020e5",
   "metadata": {},
   "outputs": [
    {
     "name": "stdout",
     "output_type": "stream",
     "text": [
      "Accuracy: 72.14% (1.92%)\n"
     ]
    }
   ],
   "source": [
    "# %load ml20.py\n",
    "# Evaluate using Cross Validation\n",
    "from pandas import read_csv\n",
    "from sklearn.model_selection import KFold, cross_val_score\n",
    "from sklearn.neighbors import KNeighborsClassifier\n",
    "header = ['preg', 'plas', 'pres', 'skin', 'test', 'mass', 'pedi', 'age', 'class']\n",
    "df = read_csv('data/pima-indians-diabetes.data.csv', names=header)\n",
    "X = df.drop(columns=['class'])\n",
    "y = df['class']\n",
    "model = KNeighborsClassifier()\n",
    "# Create 3 partitions\n",
    "kfold = KFold(n_splits=3, shuffle=True, random_state=42)\n",
    "# Perform 3-fold cross-validation\n",
    "results = cross_val_score(model, X, y, cv=kfold)\n",
    "print(f\"Accuracy: {results.mean():.2%} ({results.std():.2%})\")\n"
   ]
  },
  {
   "cell_type": "code",
   "execution_count": 26,
   "id": "67e56a83-0090-426e-ad74-074f8b2cc419",
   "metadata": {},
   "outputs": [
    {
     "data": {
      "text/html": [
       "<div>\n",
       "<style scoped>\n",
       "    .dataframe tbody tr th:only-of-type {\n",
       "        vertical-align: middle;\n",
       "    }\n",
       "\n",
       "    .dataframe tbody tr th {\n",
       "        vertical-align: top;\n",
       "    }\n",
       "\n",
       "    .dataframe thead th {\n",
       "        text-align: right;\n",
       "    }\n",
       "</style>\n",
       "<table border=\"1\" class=\"dataframe\">\n",
       "  <thead>\n",
       "    <tr style=\"text-align: right;\">\n",
       "      <th></th>\n",
       "      <th>feature1</th>\n",
       "      <th>feature2</th>\n",
       "      <th>label</th>\n",
       "    </tr>\n",
       "  </thead>\n",
       "  <tbody>\n",
       "    <tr>\n",
       "      <th>0</th>\n",
       "      <td>-4.083310</td>\n",
       "      <td>-10963.008707</td>\n",
       "      <td>0</td>\n",
       "    </tr>\n",
       "    <tr>\n",
       "      <th>1</th>\n",
       "      <td>0.751363</td>\n",
       "      <td>-7153.781270</td>\n",
       "      <td>1</td>\n",
       "    </tr>\n",
       "    <tr>\n",
       "      <th>2</th>\n",
       "      <td>5.706203</td>\n",
       "      <td>-7830.473386</td>\n",
       "      <td>1</td>\n",
       "    </tr>\n",
       "    <tr>\n",
       "      <th>3</th>\n",
       "      <td>-6.522791</td>\n",
       "      <td>-9145.506169</td>\n",
       "      <td>0</td>\n",
       "    </tr>\n",
       "    <tr>\n",
       "      <th>4</th>\n",
       "      <td>-7.362259</td>\n",
       "      <td>2846.910782</td>\n",
       "      <td>2</td>\n",
       "    </tr>\n",
       "  </tbody>\n",
       "</table>\n",
       "</div>"
      ],
      "text/plain": [
       "   feature1      feature2  label\n",
       "0 -4.083310 -10963.008707      0\n",
       "1  0.751363  -7153.781270      1\n",
       "2  5.706203  -7830.473386      1\n",
       "3 -6.522791  -9145.506169      0\n",
       "4 -7.362259   2846.910782      2"
      ]
     },
     "execution_count": 26,
     "metadata": {},
     "output_type": "execute_result"
    }
   ],
   "source": [
    "from pandas import read_csv\n",
    "import matplotlib.pyplot as plt\n",
    "from sklearn.preprocessing import MinMaxScaler\n",
    "from sklearn.model_selection import train_test_split as split\n",
    "from sklearn.neighbors import KNeighborsClassifier\n",
    "\n",
    "df = read_csv(\"data/rescale.csv\")\n",
    "df.head()"
   ]
  },
  {
   "cell_type": "code",
   "execution_count": 27,
   "id": "49c1d920-4c23-4ca2-8509-50adacee4b80",
   "metadata": {},
   "outputs": [
    {
     "data": {
      "text/html": [
       "<div>\n",
       "<style scoped>\n",
       "    .dataframe tbody tr th:only-of-type {\n",
       "        vertical-align: middle;\n",
       "    }\n",
       "\n",
       "    .dataframe tbody tr th {\n",
       "        vertical-align: top;\n",
       "    }\n",
       "\n",
       "    .dataframe thead th {\n",
       "        text-align: right;\n",
       "    }\n",
       "</style>\n",
       "<table border=\"1\" class=\"dataframe\">\n",
       "  <thead>\n",
       "    <tr style=\"text-align: right;\">\n",
       "      <th></th>\n",
       "      <th>feature1</th>\n",
       "      <th>feature2</th>\n",
       "      <th>label</th>\n",
       "    </tr>\n",
       "  </thead>\n",
       "  <tbody>\n",
       "    <tr>\n",
       "      <th>count</th>\n",
       "      <td>300.000000</td>\n",
       "      <td>300.000000</td>\n",
       "      <td>300.000000</td>\n",
       "    </tr>\n",
       "    <tr>\n",
       "      <th>mean</th>\n",
       "      <td>-3.112509</td>\n",
       "      <td>-5458.703355</td>\n",
       "      <td>1.000000</td>\n",
       "    </tr>\n",
       "    <tr>\n",
       "      <th>std</th>\n",
       "      <td>5.260577</td>\n",
       "      <td>5641.865215</td>\n",
       "      <td>0.817861</td>\n",
       "    </tr>\n",
       "    <tr>\n",
       "      <th>min</th>\n",
       "      <td>-14.482280</td>\n",
       "      <td>-14742.240961</td>\n",
       "      <td>0.000000</td>\n",
       "    </tr>\n",
       "    <tr>\n",
       "      <th>25%</th>\n",
       "      <td>-7.036305</td>\n",
       "      <td>-9750.407678</td>\n",
       "      <td>0.000000</td>\n",
       "    </tr>\n",
       "    <tr>\n",
       "      <th>50%</th>\n",
       "      <td>-4.439516</td>\n",
       "      <td>-7862.241840</td>\n",
       "      <td>1.000000</td>\n",
       "    </tr>\n",
       "    <tr>\n",
       "      <th>75%</th>\n",
       "      <td>1.833269</td>\n",
       "      <td>611.843991</td>\n",
       "      <td>2.000000</td>\n",
       "    </tr>\n",
       "    <tr>\n",
       "      <th>max</th>\n",
       "      <td>8.907468</td>\n",
       "      <td>6395.905063</td>\n",
       "      <td>2.000000</td>\n",
       "    </tr>\n",
       "  </tbody>\n",
       "</table>\n",
       "</div>"
      ],
      "text/plain": [
       "         feature1      feature2       label\n",
       "count  300.000000    300.000000  300.000000\n",
       "mean    -3.112509  -5458.703355    1.000000\n",
       "std      5.260577   5641.865215    0.817861\n",
       "min    -14.482280 -14742.240961    0.000000\n",
       "25%     -7.036305  -9750.407678    0.000000\n",
       "50%     -4.439516  -7862.241840    1.000000\n",
       "75%      1.833269    611.843991    2.000000\n",
       "max      8.907468   6395.905063    2.000000"
      ]
     },
     "execution_count": 27,
     "metadata": {},
     "output_type": "execute_result"
    }
   ],
   "source": [
    "df.describe()"
   ]
  },
  {
   "cell_type": "code",
   "execution_count": 29,
   "id": "7874289d-28d2-4c46-bf6e-008b84a719e9",
   "metadata": {},
   "outputs": [
    {
     "data": {
      "image/png": "[encoded data removed]",
      "text/plain": [
       "<Figure size 640x480 with 1 Axes>"
      ]
     },
     "metadata": {},
     "output_type": "display_data"
    }
   ],
   "source": [
    "# Plot features\n",
    "plt.scatter(df[\"feature1\"], df[\"feature2\"], c=df[\"label\"])\n",
    "plt.xlabel(\"Feature 1\")\n",
    "plt.ylabel(\"Feature 2\")\n",
    "plt.title(\"Original data points\")\n",
    "plt.axis(\"equal\")\n",
    "plt.show()"
   ]
  },
  {
   "cell_type": "code",
   "execution_count": 30,
   "id": "2b8032e5-c337-4412-9622-ffb436fb6506",
   "metadata": {},
   "outputs": [
    {
     "name": "stdout",
     "output_type": "stream",
     "text": [
      "knn1 accuracy: 66.667%\n"
     ]
    }
   ],
   "source": [
    "X = df.drop(columns=[\"label\"])\n",
    "y = df[\"label\"]\n",
    "\n",
    "X1_train, X1_test, y_train, y_test = split(X, y, test_size=0.25, random_state=42)\n",
    "\n",
    "knn1 = KNeighborsClassifier().fit(X1_train, y_train)\n",
    "print(f\"knn1 accuracy: {knn1.score(X1_test, y_test):.3%}\")"
   ]
  },
  {
   "cell_type": "code",
   "execution_count": 31,
   "id": "2dbb31e1-6221-4ee3-a3be-57b61cfaa4f1",
   "metadata": {},
   "outputs": [
    {
     "name": "stdout",
     "output_type": "stream",
     "text": [
      "knn2 accuracy: 98.667%\n"
     ]
    }
   ],
   "source": [
    "scaler = MinMaxScaler()\n",
    "X2_train = scaler.fit_transform(X1_train)\n",
    "X2_test = scaler.transform(X1_test)\n",
    "\n",
    "knn2 = KNeighborsClassifier().fit(X2_train, y_train)\n",
    "print(f\"knn2 accuracy: {knn2.score(X2_test, y_test):.3%}\")"
   ]
  },
  {
   "cell_type": "code",
   "execution_count": 32,
   "id": "6048a114-f200-4336-96c6-a8190f848f62",
   "metadata": {},
   "outputs": [
    {
     "data": {
      "text/plain": [
       "((569, 30), array([0, 1]))"
      ]
     },
     "execution_count": 32,
     "metadata": {},
     "output_type": "execute_result"
    }
   ],
   "source": [
    "from sklearn.datasets import load_breast_cancer\n",
    "from sklearn.model_selection import train_test_split as split\n",
    "from sklearn.feature_selection import RFE\n",
    "from sklearn.neighbors import KNeighborsClassifier\n",
    "from sklearn.ensemble import RandomForestClassifier\n",
    "\n",
    "X, y = load_breast_cancer(return_X_y=True)\n",
    "X.shape, np.unique(y)"
   ]
  },
  {
   "cell_type": "code",
   "execution_count": 33,
   "id": "aeb8ccaf-3bf5-4c85-8ac8-c2d56f2da2ce",
   "metadata": {},
   "outputs": [
    {
     "name": "stdout",
     "output_type": "stream",
     "text": [
      "knn1 accuracy: 96.503%\n"
     ]
    }
   ],
   "source": [
    "X1_train, X1_test, y_train, y_test = split(X, y, test_size=0.25, random_state=42)\n",
    "\n",
    "knn1 = KNeighborsClassifier().fit(X1_train, y_train)\n",
    "print(f\"knn1 accuracy: {knn1.score(X1_test, y_test):.3%}\")"
   ]
  },
  {
   "cell_type": "code",
   "execution_count": 34,
   "id": "2bb17ba7-95aa-4ce0-94ba-93f13dd75562",
   "metadata": {},
   "outputs": [
    {
     "name": "stdout",
     "output_type": "stream",
     "text": [
      "knn2 accuracy: 95.105%\n"
     ]
    }
   ],
   "source": [
    "selector = RFE(RandomForestClassifier(), n_features_to_select=10)\n",
    "X2_train = selector.fit_transform(X1_train, y_train)\n",
    "X2_test = selector.transform(X1_test)\n",
    "\n",
    "knn2 = KNeighborsClassifier().fit(X2_train, y_train)\n",
    "print(f\"knn2 accuracy: {knn2.score(X2_test, y_test):.3%}\")"
   ]
  },
  {
   "cell_type": "code",
   "execution_count": 37,
   "id": "1269a987-b97d-4f1e-809c-34e8af263a9c",
   "metadata": {},
   "outputs": [
    {
     "data": {
      "text/plain": [
       "['knn2.job']"
      ]
     },
     "execution_count": 37,
     "metadata": {},
     "output_type": "execute_result"
    }
   ],
   "source": [
    "from joblib import dump\n",
    "dump(knn1, \"knn1.job\")\n",
    "dump(knn2, \"knn2.job\")"
   ]
  },
  {
   "cell_type": "code",
   "execution_count": 40,
   "id": "f1038b3b-fe14-4483-a901-01697a6aeefc",
   "metadata": {},
   "outputs": [
    {
     "name": "stdout",
     "output_type": "stream",
     "text": [
      "0.965034965034965\n"
     ]
    },
    {
     "data": {
      "text/plain": [
       "array([0])"
      ]
     },
     "execution_count": 40,
     "metadata": {},
     "output_type": "execute_result"
    }
   ],
   "source": [
    "from joblib import load\n",
    "model1 = load(\"knn1.job\")\n",
    "print(model1.score(X1_test, y_test))\n",
    "model1.predict([X1_test[1]])"
   ]
  },
  {
   "cell_type": "code",
   "execution_count": null,
   "id": "a7909483-a1bf-457d-8e1e-0d0a8cbb686b",
   "metadata": {},
   "outputs": [],
   "source": []
  }
 ],
 "metadata": {
  "kernelspec": {
   "display_name": "Python 3 (ipykernel)",
   "language": "python",
   "name": "python3"
  },
  "language_info": {
   "codemirror_mode": {
    "name": "ipython",
    "version": 3
   },
   "file_extension": ".py",
   "mimetype": "text/x-python",
   "name": "python",
   "nbconvert_exporter": "python",
   "pygments_lexer": "ipython3",
   "version": "3.12.4"
  }
 },
 "nbformat": 4,
 "nbformat_minor": 5
}
