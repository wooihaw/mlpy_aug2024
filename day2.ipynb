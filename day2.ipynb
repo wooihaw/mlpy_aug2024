{
 "cells": [
  {
   "cell_type": "markdown",
   "id": "71fec08d-43cc-438b-be46-922a9bcad143",
   "metadata": {},
   "source": [
    "# Examples for Day 2"
   ]
  },
  {
   "cell_type": "code",
   "execution_count": null,
   "id": "6bc47310-36f8-4537-b37b-e836739b3454",
   "metadata": {},
   "outputs": [],
   "source": [
    "# initialization\n",
    "%matplotlib inline\n",
    "from warnings import filterwarnings\n",
    "filterwarnings(\"ignore\")"
   ]
  },
  {
   "cell_type": "code",
   "execution_count": null,
   "id": "5ba99510-fde8-46a7-a036-8cc79c6c3b59",
   "metadata": {},
   "outputs": [],
   "source": []
  }
 ],
 "metadata": {
  "kernelspec": {
   "display_name": "Python 3 (ipykernel)",
   "language": "python",
   "name": "python3"
  },
  "language_info": {
   "codemirror_mode": {
    "name": "ipython",
    "version": 3
   },
   "file_extension": ".py",
   "mimetype": "text/x-python",
   "name": "python",
   "nbconvert_exporter": "python",
   "pygments_lexer": "ipython3",
   "version": "3.12.4"
  }
 },
 "nbformat": 4,
 "nbformat_minor": 5
}
