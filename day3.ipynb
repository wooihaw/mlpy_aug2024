{
 "cells": [
  {
   "cell_type": "markdown",
   "id": "01572505-b9eb-4d43-bb08-f2226833fc89",
   "metadata": {},
   "source": [
    "# Examples for Day 3"
   ]
  },
  {
   "cell_type": "code",
   "execution_count": null,
   "id": "82bc5d4a-36b0-47d9-a0d8-9c7f005c3d44",
   "metadata": {},
   "outputs": [],
   "source": [
    "# initialization\n",
    "%matplotlib inline\n",
    "from warnings import filterwarnings\n",
    "filterwarnings(\"ignore\")"
   ]
  },
  {
   "cell_type": "code",
   "execution_count": null,
   "id": "69476336-9b25-42c7-8b1b-323e1dc31643",
   "metadata": {},
   "outputs": [],
   "source": []
  }
 ],
 "metadata": {
  "kernelspec": {
   "display_name": "Python 3 (ipykernel)",
   "language": "python",
   "name": "python3"
  },
  "language_info": {
   "codemirror_mode": {
    "name": "ipython",
    "version": 3
   },
   "file_extension": ".py",
   "mimetype": "text/x-python",
   "name": "python",
   "nbconvert_exporter": "python",
   "pygments_lexer": "ipython3",
   "version": "3.12.4"
  }
 },
 "nbformat": 4,
 "nbformat_minor": 5
}
