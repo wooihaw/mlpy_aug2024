{
 "cells": [
  {
   "cell_type": "markdown",
   "id": "6b9e33db-79be-4340-ae8d-fbfeb9d0a07e",
   "metadata": {},
   "source": [
    "# Examples for Day 1"
   ]
  },
  {
   "cell_type": "code",
   "execution_count": null,
   "id": "7af764a9-fe5d-42ea-8808-af1fc0cc2c50",
   "metadata": {},
   "outputs": [],
   "source": [
    "# initialization\n",
    "%matplotlib inline\n",
    "from warnings import filterwarnings\n",
    "filterwarnings(\"ignore\")"
   ]
  },
  {
   "cell_type": "code",
   "execution_count": null,
   "id": "a5c40450-9fb2-48c2-beed-9026f5f93234",
   "metadata": {},
   "outputs": [],
   "source": []
  }
 ],
 "metadata": {
  "kernelspec": {
   "display_name": "Python 3 (ipykernel)",
   "language": "python",
   "name": "python3"
  },
  "language_info": {
   "codemirror_mode": {
    "name": "ipython",
    "version": 3
   },
   "file_extension": ".py",
   "mimetype": "text/x-python",
   "name": "python",
   "nbconvert_exporter": "python",
   "pygments_lexer": "ipython3",
   "version": "3.12.4"
  }
 },
 "nbformat": 4,
 "nbformat_minor": 5
}
